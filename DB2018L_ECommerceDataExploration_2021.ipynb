{
  "nbformat": 4,
  "nbformat_minor": 0,
  "metadata": {
    "colab": {
      "name": "DB2018L_ECommerceDataExploration_2021.ipynb",
      "provenance": [],
      "collapsed_sections": []
    },
    "kernelspec": {
      "name": "python3",
      "display_name": "Python 3"
    }
  },
  "cells": [
    {
      "cell_type": "markdown",
      "metadata": {
        "id": "U5JUMgc_gbHp"
      },
      "source": [
        "# CS145: Project 3 | E-commerce Dataset with Biq Query"
      ]
    },
    {
      "cell_type": "markdown",
      "metadata": {
        "id": "EHDiv4GrhofN"
      },
      "source": [
        "## Collaborators:\n",
        "Please list the names and SUNet IDs of your collaborators below:\n",
        "* Arslan Ali, 2018-CE-236\n",
        "* Muhammad Bilal, 2018-CE-247"
      ]
    },
    {
      "cell_type": "markdown",
      "metadata": {
        "id": "efu4X-EvYl0X"
      },
      "source": [
        "**Setting Up BigQuery and Dependencies**"
      ]
    },
    {
      "cell_type": "code",
      "metadata": {
        "id": "bmebYOa7X5GF"
      },
      "source": [
        "# Run this cell to authenticate yourself to BigQuery\n",
        "from google.colab import auth\n",
        "auth.authenticate_user()\n",
        "project_id = \"db-prj-ml\""
      ],
      "execution_count": 20,
      "outputs": []
    },
    {
      "cell_type": "code",
      "metadata": {
        "id": "ziAqZvw6YFFt"
      },
      "source": [
        "# Initialize BiqQuery client\n",
        "from google.cloud import bigquery\n",
        "client = bigquery.Client(project=project_id)"
      ],
      "execution_count": 21,
      "outputs": []
    },
    {
      "cell_type": "code",
      "metadata": {
        "id": "bkX3exKzf4n9"
      },
      "source": [
        "# Add imports for any visualization libraries you may need\n",
        "import matplotlib.pyplot as plt\n",
        "\n",
        "%matplotlib inline"
      ],
      "execution_count": 22,
      "outputs": []
    },
    {
      "cell_type": "markdown",
      "metadata": {
        "id": "gMNQWFvSgepX"
      },
      "source": [
        "## Project Overview"
      ]
    },
    {
      "cell_type": "markdown",
      "metadata": {
        "id": "lX1Jkglwg1SI"
      },
      "source": [
        "1- Description:\n",
        "The data analyst team at your Company exported the Google Analytics logs for an ecommerce website into BigQuery and created a new table of all the raw ecommerce visitor session data for me to explore. Using this data, I’ll try to answer a few questions.\n",
        "\n",
        "Question1: Out of the total visitors who visited our website, what % made a purchase?\n",
        "\n",
        "Question2: How many visitors bought on subsequent visits to the website?\n",
        "\n",
        "Question3: What are some of the reasons a typical ecommerce customer will browse but not buy until a later visit?\n",
        "\n",
        "Question4: Create a Machine Learning model in BigQuery to predict whether or not a new user is likely to purchase in the future. Identifying these high-value users can help the marketing team target them with special promotions and ad campaigns to ensure a conversion while they comparison shop between visits to your ecommerce site.\n"
      ]
    },
    {
      "cell_type": "markdown",
      "metadata": {
        "id": "r_GvgTCcgv6N"
      },
      "source": [
        "## Analysis of Dataset"
      ]
    },
    {
      "cell_type": "markdown",
      "metadata": {
        "id": "c6wGQ8ZPgyuJ"
      },
      "source": [
        "---\n",
        "\n",
        "*TODO: Analysis of your dataset*\n",
        "\n",
        "\n",
        "\n",
        "----"
      ]
    },
    {
      "cell_type": "markdown",
      "metadata": {
        "id": "Fc_clta9g3H5"
      },
      "source": [
        "## Data Exploration"
      ]
    },
    {
      "cell_type": "markdown",
      "metadata": {
        "id": "OsMMIDrjg_YG"
      },
      "source": [
        "---\n",
        "\n",
        "*TODO: Exploring your questions, with appropriate visualizations*\n",
        "\n",
        "---"
      ]
    },
    {
      "cell_type": "markdown",
      "metadata": {
        "id": "BFFu4SuFZvZT"
      },
      "source": [
        "##Question 1\n"
      ]
    },
    {
      "cell_type": "code",
      "metadata": {
        "id": "c3kyTwgXfrUF",
        "colab": {
          "base_uri": "https://localhost:8080/",
          "height": 80
        },
        "outputId": "7b7fa7e2-be4c-4e73-c454-246fc63baa78"
      },
      "source": [
        "%%bigquery --project $project_id\n",
        "WITH visitors AS(\n",
        "SELECT\n",
        "COUNT(DISTINCT fullVisitorId) AS total_visitors\n",
        "FROM `data-to-insights.ecommerce.web_analytics`\n",
        "),\n",
        "\n",
        "purchasers AS(\n",
        "SELECT\n",
        "COUNT(DISTINCT fullVisitorId) AS total_purchasers\n",
        "FROM `data-to-insights.ecommerce.web_analytics`\n",
        "WHERE totals.transactions IS NOT NULL\n",
        ")\n",
        "\n",
        "SELECT\n",
        "  total_visitors,\n",
        "  total_purchasers,\n",
        "  total_purchasers / total_visitors AS conversion_rate\n",
        "FROM visitors, purchasers "
      ],
      "execution_count": 23,
      "outputs": [
        {
          "output_type": "execute_result",
          "data": {
            "text/html": [
              "<div>\n",
              "<style scoped>\n",
              "    .dataframe tbody tr th:only-of-type {\n",
              "        vertical-align: middle;\n",
              "    }\n",
              "\n",
              "    .dataframe tbody tr th {\n",
              "        vertical-align: top;\n",
              "    }\n",
              "\n",
              "    .dataframe thead th {\n",
              "        text-align: right;\n",
              "    }\n",
              "</style>\n",
              "<table border=\"1\" class=\"dataframe\">\n",
              "  <thead>\n",
              "    <tr style=\"text-align: right;\">\n",
              "      <th></th>\n",
              "      <th>total_visitors</th>\n",
              "      <th>total_purchasers</th>\n",
              "      <th>conversion_rate</th>\n",
              "    </tr>\n",
              "  </thead>\n",
              "  <tbody>\n",
              "    <tr>\n",
              "      <th>0</th>\n",
              "      <td>741721</td>\n",
              "      <td>20015</td>\n",
              "      <td>0.026985</td>\n",
              "    </tr>\n",
              "  </tbody>\n",
              "</table>\n",
              "</div>"
            ],
            "text/plain": [
              "   total_visitors  total_purchasers  conversion_rate\n",
              "0          741721             20015         0.026985"
            ]
          },
          "metadata": {
            "tags": []
          },
          "execution_count": 23
        }
      ]
    },
    {
      "cell_type": "markdown",
      "metadata": {
        "id": "URCVVIILaAf8"
      },
      "source": [
        "##Question 2"
      ]
    },
    {
      "cell_type": "code",
      "metadata": {
        "id": "YhCrkTODf2LC",
        "colab": {
          "base_uri": "https://localhost:8080/",
          "height": 204
        },
        "outputId": "10a75700-e91f-45f1-da14-06be93a94033"
      },
      "source": [
        "%%bigquery --project $project_id\n",
        "SELECT\n",
        "  p.v2ProductName,\n",
        "  p.v2ProductCategory,\n",
        "  SUM(p.productQuantity) AS units_sold,\n",
        "  ROUND(SUM(p.localProductRevenue/1000000),2) AS revenue\n",
        "FROM `data-to-insights.ecommerce.web_analytics`,\n",
        "UNNEST(hits) AS h,\n",
        "UNNEST(h.product) AS p\n",
        "GROUP BY 1, 2\n",
        "ORDER BY revenue DESC\n",
        "LIMIT 5;"
      ],
      "execution_count": 24,
      "outputs": [
        {
          "output_type": "execute_result",
          "data": {
            "text/html": [
              "<div>\n",
              "<style scoped>\n",
              "    .dataframe tbody tr th:only-of-type {\n",
              "        vertical-align: middle;\n",
              "    }\n",
              "\n",
              "    .dataframe tbody tr th {\n",
              "        vertical-align: top;\n",
              "    }\n",
              "\n",
              "    .dataframe thead th {\n",
              "        text-align: right;\n",
              "    }\n",
              "</style>\n",
              "<table border=\"1\" class=\"dataframe\">\n",
              "  <thead>\n",
              "    <tr style=\"text-align: right;\">\n",
              "      <th></th>\n",
              "      <th>v2ProductName</th>\n",
              "      <th>v2ProductCategory</th>\n",
              "      <th>units_sold</th>\n",
              "      <th>revenue</th>\n",
              "    </tr>\n",
              "  </thead>\n",
              "  <tbody>\n",
              "    <tr>\n",
              "      <th>0</th>\n",
              "      <td>Nest® Learning Thermostat 3rd Gen-USA - Stainl...</td>\n",
              "      <td>Nest-USA</td>\n",
              "      <td>17651</td>\n",
              "      <td>870976.95</td>\n",
              "    </tr>\n",
              "    <tr>\n",
              "      <th>1</th>\n",
              "      <td>Nest® Cam Outdoor Security Camera - USA</td>\n",
              "      <td>Nest-USA</td>\n",
              "      <td>16930</td>\n",
              "      <td>684034.55</td>\n",
              "    </tr>\n",
              "    <tr>\n",
              "      <th>2</th>\n",
              "      <td>Nest® Cam Indoor Security Camera - USA</td>\n",
              "      <td>Nest-USA</td>\n",
              "      <td>14155</td>\n",
              "      <td>548104.47</td>\n",
              "    </tr>\n",
              "    <tr>\n",
              "      <th>3</th>\n",
              "      <td>Nest® Protect Smoke + CO White Wired Alarm-USA</td>\n",
              "      <td>Nest-USA</td>\n",
              "      <td>6394</td>\n",
              "      <td>178937.60</td>\n",
              "    </tr>\n",
              "    <tr>\n",
              "      <th>4</th>\n",
              "      <td>Nest® Protect Smoke + CO White Battery Alarm-USA</td>\n",
              "      <td>Nest-USA</td>\n",
              "      <td>6340</td>\n",
              "      <td>178572.40</td>\n",
              "    </tr>\n",
              "  </tbody>\n",
              "</table>\n",
              "</div>"
            ],
            "text/plain": [
              "                                       v2ProductName  ...    revenue\n",
              "0  Nest® Learning Thermostat 3rd Gen-USA - Stainl...  ...  870976.95\n",
              "1            Nest® Cam Outdoor Security Camera - USA  ...  684034.55\n",
              "2             Nest® Cam Indoor Security Camera - USA  ...  548104.47\n",
              "3     Nest® Protect Smoke + CO White Wired Alarm-USA  ...  178937.60\n",
              "4   Nest® Protect Smoke + CO White Battery Alarm-USA  ...  178572.40\n",
              "\n",
              "[5 rows x 4 columns]"
            ]
          },
          "metadata": {
            "tags": []
          },
          "execution_count": 24
        }
      ]
    },
    {
      "cell_type": "markdown",
      "metadata": {
        "id": "7xPGbIcuaRUn"
      },
      "source": [
        "##Q3:\n",
        "\n",
        "### visitors who bought on a return visit could have bought on first."
      ]
    },
    {
      "cell_type": "code",
      "metadata": {
        "id": "GkQ_vb1Df-vJ",
        "colab": {
          "base_uri": "https://localhost:8080/",
          "height": 111
        },
        "outputId": "113ec98c-7955-4939-95a5-abb295332265"
      },
      "source": [
        "%%bigquery --project $project_id\n",
        "WITH all_visitor_stats AS (\n",
        "SELECT\n",
        "  fullvisitorid, # 741,721 unique visitors\n",
        "  IF(COUNTIF(totals.transactions > 0 AND totals.newVisits IS NULL) > 0, 1, 0) AS will_buy_on_return_visit\n",
        "  FROM `data-to-insights.ecommerce.web_analytics`\n",
        "  GROUP BY fullvisitorid\n",
        ")\n",
        "\n",
        "SELECT\n",
        "  COUNT(DISTINCT fullvisitorid) AS total_visitors,\n",
        "  will_buy_on_return_visit\n",
        "FROM all_visitor_stats\n",
        "GROUP BY will_buy_on_return_visit "
      ],
      "execution_count": 25,
      "outputs": [
        {
          "output_type": "execute_result",
          "data": {
            "text/html": [
              "<div>\n",
              "<style scoped>\n",
              "    .dataframe tbody tr th:only-of-type {\n",
              "        vertical-align: middle;\n",
              "    }\n",
              "\n",
              "    .dataframe tbody tr th {\n",
              "        vertical-align: top;\n",
              "    }\n",
              "\n",
              "    .dataframe thead th {\n",
              "        text-align: right;\n",
              "    }\n",
              "</style>\n",
              "<table border=\"1\" class=\"dataframe\">\n",
              "  <thead>\n",
              "    <tr style=\"text-align: right;\">\n",
              "      <th></th>\n",
              "      <th>total_visitors</th>\n",
              "      <th>will_buy_on_return_visit</th>\n",
              "    </tr>\n",
              "  </thead>\n",
              "  <tbody>\n",
              "    <tr>\n",
              "      <th>0</th>\n",
              "      <td>729848</td>\n",
              "      <td>0</td>\n",
              "    </tr>\n",
              "    <tr>\n",
              "      <th>1</th>\n",
              "      <td>11873</td>\n",
              "      <td>1</td>\n",
              "    </tr>\n",
              "  </tbody>\n",
              "</table>\n",
              "</div>"
            ],
            "text/plain": [
              "   total_visitors  will_buy_on_return_visit\n",
              "0          729848                         0\n",
              "1           11873                         1"
            ]
          },
          "metadata": {
            "tags": []
          },
          "execution_count": 25
        }
      ]
    },
    {
      "cell_type": "markdown",
      "metadata": {
        "id": "BsacMBlIa9P9"
      },
      "source": [
        "Analyzing the results, we can see that (11873 / 741721) = 1.6% of total visitors will return and purchase from the website. This includes the subset of visitors who bought on their very first session and then came back and bought again."
      ]
    },
    {
      "cell_type": "code",
      "metadata": {
        "id": "OQs4AO4NgJTz",
        "colab": {
          "base_uri": "https://localhost:8080/",
          "height": 297
        },
        "outputId": "d6e000bd-34d5-49a7-dabf-46296c9a3c0d"
      },
      "source": [
        "%%bigquery --project $project_id\n",
        "\n",
        "select\n",
        "  COUNT(DISTINCT fullVisitorId) AS unique_visitors,\n",
        "  channelGrouping\n",
        "FROM `data-to-insights.ecommerce.all_sessions`\n",
        "GROUP BY channelGrouping\n",
        "ORDER BY channelGrouping DESC;"
      ],
      "execution_count": 26,
      "outputs": [
        {
          "output_type": "execute_result",
          "data": {
            "text/html": [
              "<div>\n",
              "<style scoped>\n",
              "    .dataframe tbody tr th:only-of-type {\n",
              "        vertical-align: middle;\n",
              "    }\n",
              "\n",
              "    .dataframe tbody tr th {\n",
              "        vertical-align: top;\n",
              "    }\n",
              "\n",
              "    .dataframe thead th {\n",
              "        text-align: right;\n",
              "    }\n",
              "</style>\n",
              "<table border=\"1\" class=\"dataframe\">\n",
              "  <thead>\n",
              "    <tr style=\"text-align: right;\">\n",
              "      <th></th>\n",
              "      <th>unique_visitors</th>\n",
              "      <th>channelGrouping</th>\n",
              "    </tr>\n",
              "  </thead>\n",
              "  <tbody>\n",
              "    <tr>\n",
              "      <th>0</th>\n",
              "      <td>38101</td>\n",
              "      <td>Social</td>\n",
              "    </tr>\n",
              "    <tr>\n",
              "      <th>1</th>\n",
              "      <td>57308</td>\n",
              "      <td>Referral</td>\n",
              "    </tr>\n",
              "    <tr>\n",
              "      <th>2</th>\n",
              "      <td>11865</td>\n",
              "      <td>Paid Search</td>\n",
              "    </tr>\n",
              "    <tr>\n",
              "      <th>3</th>\n",
              "      <td>211993</td>\n",
              "      <td>Organic Search</td>\n",
              "    </tr>\n",
              "    <tr>\n",
              "      <th>4</th>\n",
              "      <td>3067</td>\n",
              "      <td>Display</td>\n",
              "    </tr>\n",
              "    <tr>\n",
              "      <th>5</th>\n",
              "      <td>75688</td>\n",
              "      <td>Direct</td>\n",
              "    </tr>\n",
              "    <tr>\n",
              "      <th>6</th>\n",
              "      <td>5966</td>\n",
              "      <td>Affiliates</td>\n",
              "    </tr>\n",
              "    <tr>\n",
              "      <th>7</th>\n",
              "      <td>62</td>\n",
              "      <td>(Other)</td>\n",
              "    </tr>\n",
              "  </tbody>\n",
              "</table>\n",
              "</div>"
            ],
            "text/plain": [
              "   unique_visitors channelGrouping\n",
              "0            38101          Social\n",
              "1            57308        Referral\n",
              "2            11865     Paid Search\n",
              "3           211993  Organic Search\n",
              "4             3067         Display\n",
              "5            75688          Direct\n",
              "6             5966      Affiliates\n",
              "7               62         (Other)"
            ]
          },
          "metadata": {
            "tags": []
          },
          "execution_count": 26
        }
      ]
    },
    {
      "cell_type": "code",
      "metadata": {
        "id": "Vz-WNQZwgMPW",
        "colab": {
          "base_uri": "https://localhost:8080/",
          "height": 419
        },
        "outputId": "b70ae698-fd06-4ff4-c016-c1e124ea4680"
      },
      "source": [
        "%%bigquery --project $project_id\n",
        "\n",
        "SELECT\n",
        "  (v2ProductName) AS ProductName\n",
        "FROM `data-to-insights.ecommerce.all_sessions`\n",
        "GROUP BY ProductName\n",
        "ORDER BY ProductName"
      ],
      "execution_count": 27,
      "outputs": [
        {
          "output_type": "execute_result",
          "data": {
            "text/html": [
              "<div>\n",
              "<style scoped>\n",
              "    .dataframe tbody tr th:only-of-type {\n",
              "        vertical-align: middle;\n",
              "    }\n",
              "\n",
              "    .dataframe tbody tr th {\n",
              "        vertical-align: top;\n",
              "    }\n",
              "\n",
              "    .dataframe thead th {\n",
              "        text-align: right;\n",
              "    }\n",
              "</style>\n",
              "<table border=\"1\" class=\"dataframe\">\n",
              "  <thead>\n",
              "    <tr style=\"text-align: right;\">\n",
              "      <th></th>\n",
              "      <th>ProductName</th>\n",
              "    </tr>\n",
              "  </thead>\n",
              "  <tbody>\n",
              "    <tr>\n",
              "      <th>0</th>\n",
              "      <td>1 oz Hand Sanitizer</td>\n",
              "    </tr>\n",
              "    <tr>\n",
              "      <th>1</th>\n",
              "      <td>14oz Ceramic Google Mug</td>\n",
              "    </tr>\n",
              "    <tr>\n",
              "      <th>2</th>\n",
              "      <td>15 oz Ceramic Mug</td>\n",
              "    </tr>\n",
              "    <tr>\n",
              "      <th>3</th>\n",
              "      <td>15\" Android Squishable - Online</td>\n",
              "    </tr>\n",
              "    <tr>\n",
              "      <th>4</th>\n",
              "      <td>16 oz. Hot and Cold Tumbler</td>\n",
              "    </tr>\n",
              "    <tr>\n",
              "      <th>...</th>\n",
              "      <td>...</td>\n",
              "    </tr>\n",
              "    <tr>\n",
              "      <th>628</th>\n",
              "      <td>YouTube Women's Short Sleeve Tri-blend Badge T...</td>\n",
              "    </tr>\n",
              "    <tr>\n",
              "      <th>629</th>\n",
              "      <td>YouTube Women's Short Sleeve Tri-blend Badge T...</td>\n",
              "    </tr>\n",
              "    <tr>\n",
              "      <th>630</th>\n",
              "      <td>YouTube Womens 3/4 Sleeve Baseball Raglan Whit...</td>\n",
              "    </tr>\n",
              "    <tr>\n",
              "      <th>631</th>\n",
              "      <td>YouTube Wool Heather Cap Heather/Black</td>\n",
              "    </tr>\n",
              "    <tr>\n",
              "      <th>632</th>\n",
              "      <td>YouTube Youth Short Sleeve Tee Red</td>\n",
              "    </tr>\n",
              "  </tbody>\n",
              "</table>\n",
              "<p>633 rows × 1 columns</p>\n",
              "</div>"
            ],
            "text/plain": [
              "                                           ProductName\n",
              "0                                  1 oz Hand Sanitizer\n",
              "1                              14oz Ceramic Google Mug\n",
              "2                                    15 oz Ceramic Mug\n",
              "3                      15\" Android Squishable - Online\n",
              "4                          16 oz. Hot and Cold Tumbler\n",
              "..                                                 ...\n",
              "628  YouTube Women's Short Sleeve Tri-blend Badge T...\n",
              "629  YouTube Women's Short Sleeve Tri-blend Badge T...\n",
              "630  YouTube Womens 3/4 Sleeve Baseball Raglan Whit...\n",
              "631             YouTube Wool Heather Cap Heather/Black\n",
              "632                 YouTube Youth Short Sleeve Tee Red\n",
              "\n",
              "[633 rows x 1 columns]"
            ]
          },
          "metadata": {
            "tags": []
          },
          "execution_count": 27
        }
      ]
    },
    {
      "cell_type": "code",
      "metadata": {
        "id": "8hxOasMfgEB1",
        "colab": {
          "base_uri": "https://localhost:8080/",
          "height": 204
        },
        "outputId": "09248a65-92ef-45c0-fdfe-685862ef245a"
      },
      "source": [
        "%%bigquery --project $project_id\n",
        "\n",
        "SELECT\n",
        "  COUNT(*) AS product_views,\n",
        "  (v2ProductName) AS ProductName\n",
        "FROM `data-to-insights.ecommerce.all_sessions`\n",
        "WHERE type = 'PAGE'\n",
        "GROUP BY v2ProductName\n",
        "ORDER BY product_views DESC\n",
        "LIMIT 5;"
      ],
      "execution_count": 28,
      "outputs": [
        {
          "output_type": "execute_result",
          "data": {
            "text/html": [
              "<div>\n",
              "<style scoped>\n",
              "    .dataframe tbody tr th:only-of-type {\n",
              "        vertical-align: middle;\n",
              "    }\n",
              "\n",
              "    .dataframe tbody tr th {\n",
              "        vertical-align: top;\n",
              "    }\n",
              "\n",
              "    .dataframe thead th {\n",
              "        text-align: right;\n",
              "    }\n",
              "</style>\n",
              "<table border=\"1\" class=\"dataframe\">\n",
              "  <thead>\n",
              "    <tr style=\"text-align: right;\">\n",
              "      <th></th>\n",
              "      <th>product_views</th>\n",
              "      <th>ProductName</th>\n",
              "    </tr>\n",
              "  </thead>\n",
              "  <tbody>\n",
              "    <tr>\n",
              "      <th>0</th>\n",
              "      <td>316482</td>\n",
              "      <td>Google Men's 100% Cotton Short Sleeve Hero Tee...</td>\n",
              "    </tr>\n",
              "    <tr>\n",
              "      <th>1</th>\n",
              "      <td>221558</td>\n",
              "      <td>22 oz YouTube Bottle Infuser</td>\n",
              "    </tr>\n",
              "    <tr>\n",
              "      <th>2</th>\n",
              "      <td>210700</td>\n",
              "      <td>YouTube Men's Short Sleeve Hero Tee Black</td>\n",
              "    </tr>\n",
              "    <tr>\n",
              "      <th>3</th>\n",
              "      <td>202205</td>\n",
              "      <td>Google Men's 100% Cotton Short Sleeve Hero Tee...</td>\n",
              "    </tr>\n",
              "    <tr>\n",
              "      <th>4</th>\n",
              "      <td>200789</td>\n",
              "      <td>YouTube Custom Decals</td>\n",
              "    </tr>\n",
              "  </tbody>\n",
              "</table>\n",
              "</div>"
            ],
            "text/plain": [
              "   product_views                                        ProductName\n",
              "0         316482  Google Men's 100% Cotton Short Sleeve Hero Tee...\n",
              "1         221558                       22 oz YouTube Bottle Infuser\n",
              "2         210700          YouTube Men's Short Sleeve Hero Tee Black\n",
              "3         202205  Google Men's 100% Cotton Short Sleeve Hero Tee...\n",
              "4         200789                              YouTube Custom Decals"
            ]
          },
          "metadata": {
            "tags": []
          },
          "execution_count": 28
        }
      ]
    },
    {
      "cell_type": "code",
      "metadata": {
        "id": "CEtvYquQgRNy",
        "colab": {
          "base_uri": "https://localhost:8080/",
          "height": 204
        },
        "outputId": "97dcb297-eafc-4893-99c6-af75363d2c26"
      },
      "source": [
        "%%bigquery --project $project_id\n",
        "\n",
        "WITH unique_product_views_by_person AS (\n",
        "-- find each unique product viewed by each visitor\n",
        "SELECT\n",
        " fullVisitorId,\n",
        " (v2ProductName) AS ProductName\n",
        "FROM `data-to-insights.ecommerce.all_sessions`\n",
        "WHERE type = 'PAGE'\n",
        "GROUP BY fullVisitorId, v2ProductName )\n",
        "\n",
        "\n",
        "-- aggregate the top viewed products and sort them\n",
        "SELECT\n",
        "  COUNT(*) AS unique_view_count,\n",
        "  ProductName\n",
        "FROM unique_product_views_by_person\n",
        "GROUP BY ProductName\n",
        "ORDER BY unique_view_count DESC\n",
        "LIMIT 5"
      ],
      "execution_count": 29,
      "outputs": [
        {
          "output_type": "execute_result",
          "data": {
            "text/html": [
              "<div>\n",
              "<style scoped>\n",
              "    .dataframe tbody tr th:only-of-type {\n",
              "        vertical-align: middle;\n",
              "    }\n",
              "\n",
              "    .dataframe tbody tr th {\n",
              "        vertical-align: top;\n",
              "    }\n",
              "\n",
              "    .dataframe thead th {\n",
              "        text-align: right;\n",
              "    }\n",
              "</style>\n",
              "<table border=\"1\" class=\"dataframe\">\n",
              "  <thead>\n",
              "    <tr style=\"text-align: right;\">\n",
              "      <th></th>\n",
              "      <th>unique_view_count</th>\n",
              "      <th>ProductName</th>\n",
              "    </tr>\n",
              "  </thead>\n",
              "  <tbody>\n",
              "    <tr>\n",
              "      <th>0</th>\n",
              "      <td>152358</td>\n",
              "      <td>Google Men's 100% Cotton Short Sleeve Hero Tee...</td>\n",
              "    </tr>\n",
              "    <tr>\n",
              "      <th>1</th>\n",
              "      <td>143770</td>\n",
              "      <td>22 oz YouTube Bottle Infuser</td>\n",
              "    </tr>\n",
              "    <tr>\n",
              "      <th>2</th>\n",
              "      <td>127904</td>\n",
              "      <td>YouTube Men's Short Sleeve Hero Tee Black</td>\n",
              "    </tr>\n",
              "    <tr>\n",
              "      <th>3</th>\n",
              "      <td>122051</td>\n",
              "      <td>YouTube Twill Cap</td>\n",
              "    </tr>\n",
              "    <tr>\n",
              "      <th>4</th>\n",
              "      <td>121288</td>\n",
              "      <td>YouTube Custom Decals</td>\n",
              "    </tr>\n",
              "  </tbody>\n",
              "</table>\n",
              "</div>"
            ],
            "text/plain": [
              "   unique_view_count                                        ProductName\n",
              "0             152358  Google Men's 100% Cotton Short Sleeve Hero Tee...\n",
              "1             143770                       22 oz YouTube Bottle Infuser\n",
              "2             127904          YouTube Men's Short Sleeve Hero Tee Black\n",
              "3             122051                                  YouTube Twill Cap\n",
              "4             121288                              YouTube Custom Decals"
            ]
          },
          "metadata": {
            "tags": []
          },
          "execution_count": 29
        }
      ]
    },
    {
      "cell_type": "code",
      "metadata": {
        "id": "mwqEss36gT-Y",
        "colab": {
          "base_uri": "https://localhost:8080/",
          "height": 204
        },
        "outputId": "5c69ff19-a4c7-4ff0-8f55-9009fe9ebe47"
      },
      "source": [
        "%%bigquery --project $project_id\n",
        "\n",
        "SELECT\n",
        "  COUNT(*) AS product_views,\n",
        "  COUNT(productQuantity) AS orders,\n",
        "  SUM(productQuantity) AS quantity_product_ordered,\n",
        "  v2ProductName\n",
        "FROM `data-to-insights.ecommerce.all_sessions`\n",
        "WHERE type = 'PAGE'\n",
        "GROUP BY v2ProductName\n",
        "ORDER BY product_views DESC\n",
        "LIMIT 5;"
      ],
      "execution_count": 30,
      "outputs": [
        {
          "output_type": "execute_result",
          "data": {
            "text/html": [
              "<div>\n",
              "<style scoped>\n",
              "    .dataframe tbody tr th:only-of-type {\n",
              "        vertical-align: middle;\n",
              "    }\n",
              "\n",
              "    .dataframe tbody tr th {\n",
              "        vertical-align: top;\n",
              "    }\n",
              "\n",
              "    .dataframe thead th {\n",
              "        text-align: right;\n",
              "    }\n",
              "</style>\n",
              "<table border=\"1\" class=\"dataframe\">\n",
              "  <thead>\n",
              "    <tr style=\"text-align: right;\">\n",
              "      <th></th>\n",
              "      <th>product_views</th>\n",
              "      <th>orders</th>\n",
              "      <th>quantity_product_ordered</th>\n",
              "      <th>v2ProductName</th>\n",
              "    </tr>\n",
              "  </thead>\n",
              "  <tbody>\n",
              "    <tr>\n",
              "      <th>0</th>\n",
              "      <td>316482</td>\n",
              "      <td>3158</td>\n",
              "      <td>6352</td>\n",
              "      <td>Google Men's 100% Cotton Short Sleeve Hero Tee...</td>\n",
              "    </tr>\n",
              "    <tr>\n",
              "      <th>1</th>\n",
              "      <td>221558</td>\n",
              "      <td>508</td>\n",
              "      <td>4769</td>\n",
              "      <td>22 oz YouTube Bottle Infuser</td>\n",
              "    </tr>\n",
              "    <tr>\n",
              "      <th>2</th>\n",
              "      <td>210700</td>\n",
              "      <td>949</td>\n",
              "      <td>1114</td>\n",
              "      <td>YouTube Men's Short Sleeve Hero Tee Black</td>\n",
              "    </tr>\n",
              "    <tr>\n",
              "      <th>3</th>\n",
              "      <td>202205</td>\n",
              "      <td>2713</td>\n",
              "      <td>8072</td>\n",
              "      <td>Google Men's 100% Cotton Short Sleeve Hero Tee...</td>\n",
              "    </tr>\n",
              "    <tr>\n",
              "      <th>4</th>\n",
              "      <td>200789</td>\n",
              "      <td>1703</td>\n",
              "      <td>11336</td>\n",
              "      <td>YouTube Custom Decals</td>\n",
              "    </tr>\n",
              "  </tbody>\n",
              "</table>\n",
              "</div>"
            ],
            "text/plain": [
              "   product_views  ...                                      v2ProductName\n",
              "0         316482  ...  Google Men's 100% Cotton Short Sleeve Hero Tee...\n",
              "1         221558  ...                       22 oz YouTube Bottle Infuser\n",
              "2         210700  ...          YouTube Men's Short Sleeve Hero Tee Black\n",
              "3         202205  ...  Google Men's 100% Cotton Short Sleeve Hero Tee...\n",
              "4         200789  ...                              YouTube Custom Decals\n",
              "\n",
              "[5 rows x 4 columns]"
            ]
          },
          "metadata": {
            "tags": []
          },
          "execution_count": 30
        }
      ]
    },
    {
      "cell_type": "code",
      "metadata": {
        "id": "_lmjDDGAgXqw",
        "colab": {
          "base_uri": "https://localhost:8080/",
          "height": 204
        },
        "outputId": "52d74a10-e4dc-49fa-9083-750660b7a31c"
      },
      "source": [
        "%%bigquery --project $project_id\n",
        "\n",
        "SELECT\n",
        "  COUNT(*) AS product_views,\n",
        "  COUNT(productQuantity) AS orders,\n",
        "  SUM(productQuantity) AS quantity_product_ordered,\n",
        "  SUM(productQuantity) / COUNT(productQuantity) AS avg_per_order,\n",
        "  (v2ProductName) AS ProductName\n",
        "FROM `data-to-insights.ecommerce.all_sessions`\n",
        "WHERE type = 'PAGE'\n",
        "GROUP BY v2ProductName\n",
        "ORDER BY product_views DESC\n",
        "LIMIT 5;"
      ],
      "execution_count": 31,
      "outputs": [
        {
          "output_type": "execute_result",
          "data": {
            "text/html": [
              "<div>\n",
              "<style scoped>\n",
              "    .dataframe tbody tr th:only-of-type {\n",
              "        vertical-align: middle;\n",
              "    }\n",
              "\n",
              "    .dataframe tbody tr th {\n",
              "        vertical-align: top;\n",
              "    }\n",
              "\n",
              "    .dataframe thead th {\n",
              "        text-align: right;\n",
              "    }\n",
              "</style>\n",
              "<table border=\"1\" class=\"dataframe\">\n",
              "  <thead>\n",
              "    <tr style=\"text-align: right;\">\n",
              "      <th></th>\n",
              "      <th>product_views</th>\n",
              "      <th>orders</th>\n",
              "      <th>quantity_product_ordered</th>\n",
              "      <th>avg_per_order</th>\n",
              "      <th>ProductName</th>\n",
              "    </tr>\n",
              "  </thead>\n",
              "  <tbody>\n",
              "    <tr>\n",
              "      <th>0</th>\n",
              "      <td>316482</td>\n",
              "      <td>3158</td>\n",
              "      <td>6352</td>\n",
              "      <td>2.011400</td>\n",
              "      <td>Google Men's 100% Cotton Short Sleeve Hero Tee...</td>\n",
              "    </tr>\n",
              "    <tr>\n",
              "      <th>1</th>\n",
              "      <td>221558</td>\n",
              "      <td>508</td>\n",
              "      <td>4769</td>\n",
              "      <td>9.387795</td>\n",
              "      <td>22 oz YouTube Bottle Infuser</td>\n",
              "    </tr>\n",
              "    <tr>\n",
              "      <th>2</th>\n",
              "      <td>210700</td>\n",
              "      <td>949</td>\n",
              "      <td>1114</td>\n",
              "      <td>1.173867</td>\n",
              "      <td>YouTube Men's Short Sleeve Hero Tee Black</td>\n",
              "    </tr>\n",
              "    <tr>\n",
              "      <th>3</th>\n",
              "      <td>202205</td>\n",
              "      <td>2713</td>\n",
              "      <td>8072</td>\n",
              "      <td>2.975304</td>\n",
              "      <td>Google Men's 100% Cotton Short Sleeve Hero Tee...</td>\n",
              "    </tr>\n",
              "    <tr>\n",
              "      <th>4</th>\n",
              "      <td>200789</td>\n",
              "      <td>1703</td>\n",
              "      <td>11336</td>\n",
              "      <td>6.656489</td>\n",
              "      <td>YouTube Custom Decals</td>\n",
              "    </tr>\n",
              "  </tbody>\n",
              "</table>\n",
              "</div>"
            ],
            "text/plain": [
              "   product_views  ...                                        ProductName\n",
              "0         316482  ...  Google Men's 100% Cotton Short Sleeve Hero Tee...\n",
              "1         221558  ...                       22 oz YouTube Bottle Infuser\n",
              "2         210700  ...          YouTube Men's Short Sleeve Hero Tee Black\n",
              "3         202205  ...  Google Men's 100% Cotton Short Sleeve Hero Tee...\n",
              "4         200789  ...                              YouTube Custom Decals\n",
              "\n",
              "[5 rows x 5 columns]"
            ]
          },
          "metadata": {
            "tags": []
          },
          "execution_count": 31
        }
      ]
    },
    {
      "cell_type": "markdown",
      "metadata": {
        "id": "NhFSJifsiC1U"
      },
      "source": [
        "## Data Prediction"
      ]
    },
    {
      "cell_type": "markdown",
      "metadata": {
        "id": "1mApAcwx15eu"
      },
      "source": [
        "\n",
        "**Selecting features**"
      ]
    },
    {
      "cell_type": "markdown",
      "metadata": {
        "id": "FJsJF4MwbiIZ"
      },
      "source": [
        "1- Select features and create training dataset.\n",
        "\n",
        "we have decided to test whether these two fields are good inputs for my classification model:\n",
        "\n",
        "totals.bounces (whether the visitor left the website immediately)\n",
        "\n",
        "totals.timeOnSite (how long the visitor was on our website)"
      ]
    },
    {
      "cell_type": "code",
      "metadata": {
        "colab": {
          "base_uri": "https://localhost:8080/",
          "height": 359
        },
        "id": "QIX65yoYcRqv",
        "outputId": "736744e1-1e39-487b-8b99-ac2092d07d49"
      },
      "source": [
        "%%bigquery --project $project_id\n",
        "SELECT\n",
        "  * EXCEPT(fullVisitorId)\n",
        "FROM\n",
        "\n",
        "  # features\n",
        "  (SELECT\n",
        "    fullVisitorId,\n",
        "    IFNULL(totals.bounces, 0) AS bounces,\n",
        "    IFNULL(totals.timeOnSite, 0) AS time_on_site\n",
        "  FROM\n",
        "    `data-to-insights.ecommerce.web_analytics`\n",
        "  WHERE\n",
        "    totals.newVisits = 1)\n",
        "  JOIN\n",
        "  (SELECT\n",
        "    fullvisitorid,\n",
        "    IF(COUNTIF(totals.transactions > 0 AND totals.newVisits IS NULL) > 0, 1, 0) AS will_buy_on_return_visit\n",
        "  FROM\n",
        "      `data-to-insights.ecommerce.web_analytics`\n",
        "  GROUP BY fullvisitorid)\n",
        "  USING (fullVisitorId)\n",
        "ORDER BY time_on_site DESC\n",
        "LIMIT 10;"
      ],
      "execution_count": 32,
      "outputs": [
        {
          "output_type": "execute_result",
          "data": {
            "text/html": [
              "<div>\n",
              "<style scoped>\n",
              "    .dataframe tbody tr th:only-of-type {\n",
              "        vertical-align: middle;\n",
              "    }\n",
              "\n",
              "    .dataframe tbody tr th {\n",
              "        vertical-align: top;\n",
              "    }\n",
              "\n",
              "    .dataframe thead th {\n",
              "        text-align: right;\n",
              "    }\n",
              "</style>\n",
              "<table border=\"1\" class=\"dataframe\">\n",
              "  <thead>\n",
              "    <tr style=\"text-align: right;\">\n",
              "      <th></th>\n",
              "      <th>bounces</th>\n",
              "      <th>time_on_site</th>\n",
              "      <th>will_buy_on_return_visit</th>\n",
              "    </tr>\n",
              "  </thead>\n",
              "  <tbody>\n",
              "    <tr>\n",
              "      <th>0</th>\n",
              "      <td>0</td>\n",
              "      <td>15047</td>\n",
              "      <td>0</td>\n",
              "    </tr>\n",
              "    <tr>\n",
              "      <th>1</th>\n",
              "      <td>0</td>\n",
              "      <td>12136</td>\n",
              "      <td>0</td>\n",
              "    </tr>\n",
              "    <tr>\n",
              "      <th>2</th>\n",
              "      <td>0</td>\n",
              "      <td>11201</td>\n",
              "      <td>0</td>\n",
              "    </tr>\n",
              "    <tr>\n",
              "      <th>3</th>\n",
              "      <td>0</td>\n",
              "      <td>10046</td>\n",
              "      <td>0</td>\n",
              "    </tr>\n",
              "    <tr>\n",
              "      <th>4</th>\n",
              "      <td>0</td>\n",
              "      <td>9974</td>\n",
              "      <td>0</td>\n",
              "    </tr>\n",
              "    <tr>\n",
              "      <th>5</th>\n",
              "      <td>0</td>\n",
              "      <td>9564</td>\n",
              "      <td>0</td>\n",
              "    </tr>\n",
              "    <tr>\n",
              "      <th>6</th>\n",
              "      <td>0</td>\n",
              "      <td>9520</td>\n",
              "      <td>0</td>\n",
              "    </tr>\n",
              "    <tr>\n",
              "      <th>7</th>\n",
              "      <td>0</td>\n",
              "      <td>9275</td>\n",
              "      <td>1</td>\n",
              "    </tr>\n",
              "    <tr>\n",
              "      <th>8</th>\n",
              "      <td>0</td>\n",
              "      <td>9138</td>\n",
              "      <td>0</td>\n",
              "    </tr>\n",
              "    <tr>\n",
              "      <th>9</th>\n",
              "      <td>0</td>\n",
              "      <td>8872</td>\n",
              "      <td>0</td>\n",
              "    </tr>\n",
              "  </tbody>\n",
              "</table>\n",
              "</div>"
            ],
            "text/plain": [
              "   bounces  time_on_site  will_buy_on_return_visit\n",
              "0        0         15047                         0\n",
              "1        0         12136                         0\n",
              "2        0         11201                         0\n",
              "3        0         10046                         0\n",
              "4        0          9974                         0\n",
              "5        0          9564                         0\n",
              "6        0          9520                         0\n",
              "7        0          9275                         1\n",
              "8        0          9138                         0\n",
              "9        0          8872                         0"
            ]
          },
          "metadata": {
            "tags": []
          },
          "execution_count": 32
        }
      ]
    },
    {
      "cell_type": "markdown",
      "metadata": {
        "id": "SO3qHbJRcA6a"
      },
      "source": [
        "Question: Which fields are the input features and the label?\n",
        "\n",
        "Answer: The inputs are bounces and time_on_site. The label is will_buy_on_return_visit.\n",
        "\n",
        "Question: Which two fields are known after a visitor’s first session?\n",
        "\n",
        "Answer: bounces and time_on_site are known after a visitor’s first session."
      ]
    },
    {
      "cell_type": "markdown",
      "metadata": {
        "id": "2ZnpBScG2YBQ"
      },
      "source": [
        "**creating dataset**"
      ]
    },
    {
      "cell_type": "markdown",
      "metadata": {
        "id": "GIc0aXCC2niN"
      },
      "source": [
        "**Creating Model:**"
      ]
    },
    {
      "cell_type": "code",
      "metadata": {
        "colab": {
          "base_uri": "https://localhost:8080/",
          "height": 359
        },
        "id": "BbIz_WSiSe3d",
        "outputId": "b40c0979-5a0c-4379-adcc-23350b4d0f52"
      },
      "source": [
        "#Select features and create your training dataset\n",
        "%%bigquery --project $project_id\n",
        "SELECT\n",
        "  * EXCEPT(fullVisitorId)\n",
        "FROM\n",
        "\n",
        "  # features\n",
        "  (SELECT\n",
        "    fullVisitorId,\n",
        "    IFNULL(totals.bounces, 0) AS bounces,\n",
        "    IFNULL(totals.timeOnSite, 0) AS time_on_site\n",
        "  FROM\n",
        "    `data-to-insights.ecommerce.web_analytics`\n",
        "  WHERE\n",
        "    totals.newVisits = 1)\n",
        "  JOIN\n",
        "  (SELECT\n",
        "    fullvisitorid,\n",
        "    IF(COUNTIF(totals.transactions > 0 AND totals.newVisits IS NULL) > 0, 1, 0) AS will_buy_on_return_visit\n",
        "  FROM\n",
        "      `data-to-insights.ecommerce.web_analytics`\n",
        "  GROUP BY fullvisitorid)\n",
        "  USING (fullVisitorId)\n",
        "ORDER BY time_on_site DESC\n",
        "LIMIT 10;"
      ],
      "execution_count": 33,
      "outputs": [
        {
          "output_type": "execute_result",
          "data": {
            "text/html": [
              "<div>\n",
              "<style scoped>\n",
              "    .dataframe tbody tr th:only-of-type {\n",
              "        vertical-align: middle;\n",
              "    }\n",
              "\n",
              "    .dataframe tbody tr th {\n",
              "        vertical-align: top;\n",
              "    }\n",
              "\n",
              "    .dataframe thead th {\n",
              "        text-align: right;\n",
              "    }\n",
              "</style>\n",
              "<table border=\"1\" class=\"dataframe\">\n",
              "  <thead>\n",
              "    <tr style=\"text-align: right;\">\n",
              "      <th></th>\n",
              "      <th>bounces</th>\n",
              "      <th>time_on_site</th>\n",
              "      <th>will_buy_on_return_visit</th>\n",
              "    </tr>\n",
              "  </thead>\n",
              "  <tbody>\n",
              "    <tr>\n",
              "      <th>0</th>\n",
              "      <td>0</td>\n",
              "      <td>15047</td>\n",
              "      <td>0</td>\n",
              "    </tr>\n",
              "    <tr>\n",
              "      <th>1</th>\n",
              "      <td>0</td>\n",
              "      <td>12136</td>\n",
              "      <td>0</td>\n",
              "    </tr>\n",
              "    <tr>\n",
              "      <th>2</th>\n",
              "      <td>0</td>\n",
              "      <td>11201</td>\n",
              "      <td>0</td>\n",
              "    </tr>\n",
              "    <tr>\n",
              "      <th>3</th>\n",
              "      <td>0</td>\n",
              "      <td>10046</td>\n",
              "      <td>0</td>\n",
              "    </tr>\n",
              "    <tr>\n",
              "      <th>4</th>\n",
              "      <td>0</td>\n",
              "      <td>9974</td>\n",
              "      <td>0</td>\n",
              "    </tr>\n",
              "    <tr>\n",
              "      <th>5</th>\n",
              "      <td>0</td>\n",
              "      <td>9564</td>\n",
              "      <td>0</td>\n",
              "    </tr>\n",
              "    <tr>\n",
              "      <th>6</th>\n",
              "      <td>0</td>\n",
              "      <td>9520</td>\n",
              "      <td>0</td>\n",
              "    </tr>\n",
              "    <tr>\n",
              "      <th>7</th>\n",
              "      <td>0</td>\n",
              "      <td>9275</td>\n",
              "      <td>1</td>\n",
              "    </tr>\n",
              "    <tr>\n",
              "      <th>8</th>\n",
              "      <td>0</td>\n",
              "      <td>9138</td>\n",
              "      <td>0</td>\n",
              "    </tr>\n",
              "    <tr>\n",
              "      <th>9</th>\n",
              "      <td>0</td>\n",
              "      <td>8872</td>\n",
              "      <td>0</td>\n",
              "    </tr>\n",
              "  </tbody>\n",
              "</table>\n",
              "</div>"
            ],
            "text/plain": [
              "   bounces  time_on_site  will_buy_on_return_visit\n",
              "0        0         15047                         0\n",
              "1        0         12136                         0\n",
              "2        0         11201                         0\n",
              "3        0         10046                         0\n",
              "4        0          9974                         0\n",
              "5        0          9564                         0\n",
              "6        0          9520                         0\n",
              "7        0          9275                         1\n",
              "8        0          9138                         0\n",
              "9        0          8872                         0"
            ]
          },
          "metadata": {
            "tags": []
          },
          "execution_count": 33
        }
      ]
    },
    {
      "cell_type": "code",
      "metadata": {
        "colab": {
          "base_uri": "https://localhost:8080/"
        },
        "id": "c2hzLjCY2q_v",
        "outputId": "83b24f21-1446-4886-e473-4122f8fa2570"
      },
      "source": [
        "%%bigquery --project $project_id\n",
        "\n",
        "CREATE OR REPLACE MODEL `bqml_ecomm.model`\n",
        "OPTIONS\n",
        "(\n",
        "model_type='logistic_reg',\n",
        "labels = ['will_buy_on_return_visit']\n",
        ")\n",
        "AS\n",
        "\n",
        "#standardSQL\n",
        "SELECT\n",
        "  * EXCEPT(fullVisitorId)\n",
        "FROM\n",
        "\n",
        "  # features\n",
        "  (SELECT\n",
        "    fullVisitorId,\n",
        "    IFNULL(totals.bounces, 0) AS bounces,\n",
        "    IFNULL(totals.timeOnSite, 0) AS time_on_site\n",
        "  FROM\n",
        "    `data-to-insights.ecommerce.web_analytics`\n",
        "  WHERE\n",
        "    totals.newVisits = 1\n",
        "    AND date BETWEEN '20160801' AND '20170430') # train on first 9 months\n",
        "  JOIN\n",
        "  (SELECT\n",
        "    fullvisitorid,\n",
        "    IF(COUNTIF(totals.transactions > 0 AND totals.newVisits IS NULL) > 0, 1, 0) AS will_buy_on_return_visit\n",
        "  FROM\n",
        "      `data-to-insights.ecommerce.web_analytics`\n",
        "  GROUP BY fullvisitorid)\n",
        "  USING (fullVisitorId)\n",
        ";\n"
      ],
      "execution_count": null,
      "outputs": [
        {
          "output_type": "stream",
          "text": [
            "Executing query with job ID: cb43dbda-e94d-48b6-b824-e8ce566663a9\n",
            "Query executing: 88.81s"
          ],
          "name": "stdout"
        }
      ]
    },
    {
      "cell_type": "markdown",
      "metadata": {
        "id": "Ho2M6WRa3jTX"
      },
      "source": [
        "**Evaluating:**"
      ]
    },
    {
      "cell_type": "code",
      "metadata": {
        "id": "M6lN9Egi3iCQ"
      },
      "source": [
        "%%bigquery --project $project_id\n",
        "\n",
        "SELECT\n",
        "  roc_auc,\n",
        "  CASE\n",
        "    WHEN roc_auc > .9 THEN 'good'\n",
        "    WHEN roc_auc > .8 THEN 'fair'\n",
        "    WHEN roc_auc > .7 THEN 'not great'\n",
        "  ELSE 'poor' END AS model_quality\n",
        "FROM\n",
        "  ML.EVALUATE(MODEL `bqml_ecomm.model`,  (\n",
        "\n",
        "SELECT\n",
        "  * EXCEPT(fullVisitorId)\n",
        "FROM\n",
        "\n",
        "  # features\n",
        "  (SELECT\n",
        "    fullVisitorId,\n",
        "    IFNULL(totals.bounces, 0) AS bounces,\n",
        "    IFNULL(totals.timeOnSite, 0) AS time_on_site\n",
        "  FROM\n",
        "    `data-to-insights.ecommerce.web_analytics`\n",
        "  WHERE\n",
        "    totals.newVisits = 1\n",
        "    AND date BETWEEN '20170430' and '20170630') # train on first 9 months\n",
        "  JOIN\n",
        "  (SELECT\n",
        "    fullvisitorid,\n",
        "    IF(COUNTIF(totals.transactions > 0 AND totals.newVisits IS NULL) > 0, 1, 0) AS will_buy_on_return_visit\n",
        "  FROM\n",
        "      `data-to-insights.ecommerce.web_analytics`\n",
        "  GROUP BY fullvisitorid)\n",
        "  USING (fullVisitorId);)\n",
        "\n",
        ")\n",
        ")\n",
        "\n",
        "\n",
        "\n"
      ],
      "execution_count": null,
      "outputs": []
    },
    {
      "cell_type": "markdown",
      "metadata": {
        "id": "jyYsDRRl3IMA"
      },
      "source": [
        "**Recreating model after adding more features:**"
      ]
    },
    {
      "cell_type": "code",
      "metadata": {
        "id": "rlxLcOYJ3HhW"
      },
      "source": [
        "%%bigquery --project $project_id\n",
        "\n",
        "CREATE OR REPLACE MODEL `bqml_ecomm.model`\n",
        "OPTIONS\n",
        "  (model_type='logistic_reg', labels = ['will_buy_on_return_visit']) AS\n",
        "\n",
        "WITH all_visitor_stats AS (\n",
        "SELECT\n",
        "  fullvisitorid,\n",
        "  IF(COUNTIF(totals.transactions > 0 AND totals.newVisits IS NULL) > 0, 1, 0) AS will_buy_on_return_visit\n",
        "  FROM `data-to-insights.ecommerce.web_analytics`\n",
        "  GROUP BY fullvisitorid\n",
        ")\n",
        "\n",
        "# add in new features\n",
        "SELECT * EXCEPT(unique_session_id) FROM (\n",
        "\n",
        "  SELECT\n",
        "      CONCAT(fullvisitorid, CAST(visitId AS STRING)) AS unique_session_id,\n",
        "\n",
        "      # labels\n",
        "      will_buy_on_return_visit,\n",
        "\n",
        "      MAX(CAST(h.eCommerceAction.action_type AS INT64)) AS latest_ecommerce_progress,\n",
        "\n",
        "      # behavior on the site\n",
        "      IFNULL(totals.bounces, 0) AS bounces,\n",
        "      IFNULL(totals.timeOnSite, 0) AS time_on_site,\n",
        "      totals.pageviews,\n",
        "\n",
        "      # where the visitor came from\n",
        "      trafficSource.source,\n",
        "      trafficSource.medium,\n",
        "      channelGrouping,\n",
        "\n",
        "      # mobile or desktop\n",
        "      device.deviceCategory,\n",
        "\n",
        "      # geographic\n",
        "      IFNULL(geoNetwork.country, \"\") AS country\n",
        "\n",
        "  FROM `data-to-insights.ecommerce.web_analytics`,\n",
        "     UNNEST(hits) AS h\n",
        "\n",
        "    JOIN all_visitor_stats USING(fullvisitorid)\n",
        "\n",
        "  WHERE 1=1\n",
        "    # only predict for new visits\n",
        "    AND totals.newVisits = 1\n",
        "    AND date BETWEEN '20160801' AND '20170430' # train 9 months\n",
        "\n",
        "  GROUP BY\n",
        "  unique_session_id,\n",
        "  will_buy_on_return_visit,\n",
        "  bounces,\n",
        "  time_on_site,\n",
        "  totals.pageviews,\n",
        "  trafficSource.source,\n",
        "  trafficSource.medium,\n",
        "  channelGrouping,\n",
        "  device.deviceCategory,\n",
        "  country\n",
        ");\n"
      ],
      "execution_count": null,
      "outputs": []
    },
    {
      "cell_type": "markdown",
      "metadata": {
        "id": "X3V0mH997KSw"
      },
      "source": [
        "**Evaluating:**"
      ]
    },
    {
      "cell_type": "code",
      "metadata": {
        "id": "8_rtano67JyT"
      },
      "source": [
        "%%bigquery --project $project_id\n",
        "\n",
        "SELECT\n",
        "  roc_auc,\n",
        "  CASE\n",
        "    WHEN roc_auc > .9 THEN 'good'\n",
        "    WHEN roc_auc > .8 THEN 'fair'\n",
        "    WHEN roc_auc > .7 THEN 'not great'\n",
        "  ELSE 'poor' END AS model_quality\n",
        "FROM\n",
        "  ML.EVALUATE(MODEL `bqml_ecomm.model`,  (\n",
        "\n",
        "WITH all_visitor_stats AS (\n",
        "SELECT\n",
        "  fullvisitorid,\n",
        "  IF(COUNTIF(totals.transactions > 0 AND totals.newVisits IS NULL) > 0, 1, 0) AS will_buy_on_return_visit\n",
        "  FROM `data-to-insights.ecommerce.web_analytics`\n",
        "  GROUP BY fullvisitorid\n",
        ")\n",
        "\n",
        "# add in new features\n",
        "SELECT * EXCEPT(unique_session_id) FROM (\n",
        "\n",
        "  SELECT\n",
        "      CONCAT(fullvisitorid, CAST(visitId AS STRING)) AS unique_session_id,\n",
        "\n",
        "      # labels\n",
        "      will_buy_on_return_visit,\n",
        "\n",
        "      MAX(CAST(h.eCommerceAction.action_type AS INT64)) AS latest_ecommerce_progress,\n",
        "\n",
        "      # behavior on the site\n",
        "      IFNULL(totals.bounces, 0) AS bounces,\n",
        "      IFNULL(totals.timeOnSite, 0) AS time_on_site,\n",
        "      totals.pageviews,\n",
        "\n",
        "      # where the visitor came from\n",
        "      trafficSource.source,\n",
        "      trafficSource.medium,\n",
        "      channelGrouping,\n",
        "\n",
        "      # mobile or desktop\n",
        "      device.deviceCategory,\n",
        "\n",
        "      # geographic\n",
        "      IFNULL(geoNetwork.country, \"\") AS country\n",
        "\n",
        "  FROM `data-to-insights.ecommerce.web_analytics`,\n",
        "     UNNEST(hits) AS h\n",
        "\n",
        "    JOIN all_visitor_stats USING(fullvisitorid)\n",
        "\n",
        "  WHERE 1=1\n",
        "    # only predict for new visits\n",
        "    AND totals.newVisits = 1\n",
        "    AND date BETWEEN '20170501' AND '20170630' # eval 2 months\n",
        "\n",
        "  GROUP BY\n",
        "  unique_session_id,\n",
        "  will_buy_on_return_visit,\n",
        "  bounces,\n",
        "  time_on_site,\n",
        "  totals.pageviews,\n",
        "  trafficSource.source,\n",
        "  trafficSource.medium,\n",
        "  channelGrouping,\n",
        "  device.deviceCategory,\n",
        "  country\n",
        ")\n",
        "));\n"
      ],
      "execution_count": null,
      "outputs": []
    },
    {
      "cell_type": "markdown",
      "metadata": {
        "id": "u6YtKHv37t00"
      },
      "source": [
        "**Prediction:**"
      ]
    },
    {
      "cell_type": "code",
      "metadata": {
        "id": "7ZLuNz1m7xy4"
      },
      "source": [
        "%%bigquery --project $project_id\n",
        "\n",
        "SELECT\n",
        "*\n",
        "FROM\n",
        "  ml.PREDICT(MODEL `bqml_ecomm.model`,\n",
        "   (\n",
        "\n",
        "WITH all_visitor_stats AS (\n",
        "SELECT\n",
        "  fullvisitorid,\n",
        "  IF(COUNTIF(totals.transactions > 0 AND totals.newVisits IS NULL) > 0, 1, 0) AS will_buy_on_return_visit\n",
        "  FROM `data-to-insights.ecommerce.web_analytics`\n",
        "  GROUP BY fullvisitorid\n",
        ")\n",
        "\n",
        "  SELECT\n",
        "      CONCAT(fullvisitorid, '-',CAST(visitId AS STRING)) AS unique_session_id,\n",
        "\n",
        "      # labels\n",
        "      will_buy_on_return_visit,\n",
        "\n",
        "      MAX(CAST(h.eCommerceAction.action_type AS INT64)) AS latest_ecommerce_progress,\n",
        "\n",
        "      # behavior on the site\n",
        "      IFNULL(totals.bounces, 0) AS bounces,\n",
        "      IFNULL(totals.timeOnSite, 0) AS time_on_site,\n",
        "      totals.pageviews,\n",
        "\n",
        "      # where the visitor came from\n",
        "      trafficSource.source,\n",
        "      trafficSource.medium,\n",
        "      channelGrouping,\n",
        "\n",
        "      # mobile or desktop\n",
        "      device.deviceCategory,\n",
        "\n",
        "      # geographic\n",
        "      IFNULL(geoNetwork.country, \"\") AS country\n",
        "\n",
        "  FROM `data-to-insights.ecommerce.web_analytics`,\n",
        "     UNNEST(hits) AS h\n",
        "\n",
        "    JOIN all_visitor_stats USING(fullvisitorid)\n",
        "\n",
        "  WHERE\n",
        "    # only predict for new visits\n",
        "    totals.newVisits = 1\n",
        "    AND date BETWEEN '20170701' AND '20170801' # test 1 month\n",
        "\n",
        "  GROUP BY\n",
        "  unique_session_id,\n",
        "  will_buy_on_return_visit,\n",
        "  bounces,\n",
        "  time_on_site,\n",
        "  totals.pageviews,\n",
        "  trafficSource.source,\n",
        "  trafficSource.medium,\n",
        "  channelGrouping,\n",
        "  device.deviceCategory,\n",
        "  country\n",
        ")\n",
        "\n",
        ")\n",
        "\n",
        "ORDER BY\n",
        "  predicted_will_buy_on_return_visit DESC;\n"
      ],
      "execution_count": null,
      "outputs": []
    },
    {
      "cell_type": "markdown",
      "metadata": {
        "id": "Dg7Lhqi_yDcy"
      },
      "source": [
        "## Conclusion"
      ]
    },
    {
      "cell_type": "markdown",
      "metadata": {
        "id": "YmVpTigjyHMY"
      },
      "source": [
        "---\n",
        "\n",
        "*TODO:\n",
        " Final conclusions based on the rest of your project*\n",
        "Of the top 6% of first-time visitors (sorted in decreasing order of predicted\n",
        "\n",
        "probability), more than 6% make a purchase in a later visit.\n",
        "\n",
        "These users represent nearly 50% of all first-time visitors who make a purchase\n",
        "\n",
        "in a later visit.\n",
        "\n",
        "Overall, only 0.7% of first-time visitors make a purchase in a later visit.\n",
        "\n",
        "Targeting the top 6% of first-time increases marketing ROI by 9x vs targeting \n",
        "\n",
        "them all!\n",
        "---"
      ]
    },
    {
      "cell_type": "code",
      "metadata": {
        "id": "Hrdxqy-Nh5DI"
      },
      "source": [
        ""
      ],
      "execution_count": null,
      "outputs": []
    }
  ]
}